{
 "cells": [
  {
   "cell_type": "code",
   "execution_count": null,
   "id": "9ede28f7-d64f-4c1e-815f-db9d818d0e58",
   "metadata": {},
   "outputs": [],
   "source": [
    "import pandas as pd\n",
    "from pathlib import Path\n",
    "import numpy as np\n",
    "import scipy.stats as stats\n",
    "from sklearn.metrics import f1_score, accuracy_score\n",
    "\n",
    "current_path = Path().resolve().parent\n",
    "print(current_path)"
   ]
  },
  {
   "cell_type": "markdown",
   "id": "b09cffc6-527c-4852-9c20-3f3b8acdf890",
   "metadata": {},
   "source": [
    "# Binary"
   ]
  },
  {
   "cell_type": "code",
   "execution_count": null,
   "id": "aeeaa188-77ce-491c-8d64-047582e84af7",
   "metadata": {},
   "outputs": [],
   "source": [
    "grupo1 = []\n",
    "grupo2 = []\n",
    "\n",
    "corpus = 'ukp'\n",
    "model = 'distilbert'\n",
    "\n",
    "results_path = current_path / 'results' / f\"{corpus}-{model}-binary/\"\n",
    "\n",
    "for exp in range(10):\n",
    "    df = pd.read_csv(results_path / f'test_results_exp_{exp}.csv')\n",
    "    score = f1_score(df['true_label'], df['prediction'], average='macro')\n",
    "    grupo1.append(score)\n",
    "\n",
    "model = 'bert'\n",
    "results_path = current_path / 'results' / f\"{corpus}-{model}-binary/\"\n",
    "\n",
    "for exp in range(10):\n",
    "    df = pd.read_csv(results_path / f'test_results_exp_{exp}.csv')\n",
    "    score = f1_score(df['true_label'], df['prediction'], average='macro')\n",
    "    grupo2.append(score)\n",
    "\n",
    "\n",
    "# U de Mann-Whitney test\n",
    "statistic, p_value = stats.mannwhitneyu(grupo1, grupo2, alternative='two-sided')\n",
    "\n",
    "alpha = 0.05\n",
    "if p_value < alpha:\n",
    "    print(\"La diferencia es significativa: rechazamos la hipótesis nula\")\n",
    "else:\n",
    "    print(\"No hay evidencia significativa para rechazar la hipótesis nula\")\n",
    "\n",
    "#########################\n",
    "# Wilcoxon test\n",
    "statistic, p_value = stats.wilcoxon(grupo1, grupo2)\n",
    "\n",
    "alpha = 0.05\n",
    "if p_value < alpha:\n",
    "    print(\"La diferencia es significativa: rechazamos la hipótesis nula\")\n",
    "else:\n",
    "    print(\"No hay evidencia significativa para rechazar la hipótesis nula\")\n"
   ]
  },
  {
   "cell_type": "markdown",
   "id": "26bd8f92-c904-4ba9-9783-27806b869a5b",
   "metadata": {},
   "source": [
    "# Multi-class"
   ]
  },
  {
   "cell_type": "code",
   "execution_count": null,
   "id": "991f488a-c8de-4d5b-8a73-1c1dcc61f7c9",
   "metadata": {},
   "outputs": [],
   "source": [
    "grupo1 = []\n",
    "grupo2 = []\n",
    "\n",
    "corpus = 'ukp'\n",
    "\n",
    "model = 'bert'\n",
    "\n",
    "results_path = current_path / 'results' / f\"{corpus}-{model}-multi/\"\n",
    "\n",
    "for exp in range(10):\n",
    "    df = pd.read_csv(results_path / f'test_results_exp_{exp}.csv')\n",
    "    score = f1_score(df['true_label'], df['prediction'], average='macro')\n",
    "    grupo1.append(score)\n",
    "\n",
    "model = 'distilbert'\n",
    "results_path = current_path / 'results' / f\"{corpus}-{model}-multi/\"\n",
    "\n",
    "for exp in range(10):\n",
    "    df = pd.read_csv(results_path / f'test_results_exp_{exp}.csv')\n",
    "    score = f1_score(df['true_label'], df['prediction'], average='macro')\n",
    "    grupo2.append(score)\n",
    "\n",
    "\n",
    "# U de Mann-Whitney test\n",
    "statistic, p_value = stats.mannwhitneyu(grupo1, grupo2, alternative='two-sided')\n",
    "\n",
    "alpha = 0.05\n",
    "if p_value < alpha:\n",
    "    print(\"La diferencia es significativa: rechazamos la hipótesis nula\")\n",
    "else:\n",
    "    print(\"No hay evidencia significativa para rechazar la hipótesis nula\")\n",
    "\n",
    "#########################\n",
    "# Wilcoxon test\n",
    "statistic, p_value = stats.wilcoxon(grupo1, grupo2)\n",
    "\n",
    "alpha = 0.05\n",
    "if p_value < alpha:\n",
    "    print(\"La diferencia es significativa: rechazamos la hipótesis nula\")\n",
    "else:\n",
    "    print(\"No hay evidencia significativa para rechazar la hipótesis nula\")"
   ]
  }
 ],
 "metadata": {
  "kernelspec": {
   "display_name": "Python 3 (ipykernel)",
   "language": "python",
   "name": "python3"
  },
  "language_info": {
   "codemirror_mode": {
    "name": "ipython",
    "version": 3
   },
   "file_extension": ".py",
   "mimetype": "text/x-python",
   "name": "python",
   "nbconvert_exporter": "python",
   "pygments_lexer": "ipython3",
   "version": "3.11.0"
  }
 },
 "nbformat": 4,
 "nbformat_minor": 5
}
